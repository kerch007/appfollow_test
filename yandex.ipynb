{
 "cells": [
  {
   "cell_type": "code",
   "execution_count": 1,
   "metadata": {},
   "outputs": [],
   "source": [
    "import requests\n",
    "from bs4 import BeautifulSoup\n",
    "import pandas as pd"
   ]
  },
  {
   "cell_type": "code",
   "execution_count": 127,
   "metadata": {},
   "outputs": [],
   "source": [
    "import requests\n",
    "from bs4 import BeautifulSoup\n",
    " \n",
    "d=[]\n",
    " \n",
    "################## use proxy for Ukraine ##########################\n",
    "url = 'https://yandex.ru'\n",
    "proxies = {\"http\": \"http://2.36.242.104:8118\",\n",
    "           \"https\": \"http://2.36.242.104:8118\"}\n",
    "\n",
    "\n",
    "r = requests.get(url, proxies=proxies)\n",
    "soup = BeautifulSoup(r.text, 'html.parser')\n",
    " \n",
    "k = soup.find_all(class_=\"list__item list__item_icon\")\n",
    "\n",
    "news = []\n",
    "for i in range(len(k)):\n",
    "    news.append(k[i].find(class_=\"news__item-content\").text)\n",
    "\n",
    "\n",
    "animated = soup.find_all(class_=\"list__item list__item_icon news__animated-item\")\n",
    "\n",
    "news_animated = []\n",
    "for i in range(len(animated)):\n",
    "    news_animated.append(animated[i].find(class_=\"news__item-content\").text)\n",
    "\n",
    "total = news + news_animated\n",
    "\n",
    "with open('news.txt', 'w') as f:\n",
    "    for item in total:\n",
    "        f.write(\"%s\\n\" % item)"
   ]
  }
 ],
 "metadata": {
  "kernelspec": {
   "display_name": "Python 3",
   "language": "python",
   "name": "python3"
  },
  "language_info": {
   "codemirror_mode": {
    "name": "ipython",
    "version": 3
   },
   "file_extension": ".py",
   "mimetype": "text/x-python",
   "name": "python",
   "nbconvert_exporter": "python",
   "pygments_lexer": "ipython3",
   "version": "3.6.4"
  }
 },
 "nbformat": 4,
 "nbformat_minor": 2
}
